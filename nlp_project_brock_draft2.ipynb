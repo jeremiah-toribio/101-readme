{
 "cells": [
  {
   "cell_type": "code",
   "execution_count": 15,
   "metadata": {},
   "outputs": [],
   "source": [
    "# Standard DS imports\n",
    "import pandas as pd\n",
    "import numpy as np\n",
    "\n",
    "# Vizualization imports\n",
    "import matplotlib.pyplot as plt\n",
    "import seaborn as sns\n",
    "\n",
    "# NLP imports\n",
    "import re\n",
    "import unicodedata\n",
    "import nltk\n",
    "from nltk.tokenize.toktok import ToktokTokenizer\n",
    "from nltk.corpus import stopwords\n",
    "from bs4 import BeautifulSoup\n",
    "\n",
    "# Custom imports\n",
    "import acquire as a\n",
    "import env\n",
    "\n",
    "import os\n",
    "import requests\n",
    "import random"
   ]
  },
  {
   "cell_type": "markdown",
   "metadata": {},
   "source": [
    "## Acquire"
   ]
  },
  {
   "cell_type": "code",
   "execution_count": 16,
   "metadata": {},
   "outputs": [],
   "source": [
    "df = a.process_all_repos()"
   ]
  },
  {
   "cell_type": "code",
   "execution_count": 17,
   "metadata": {},
   "outputs": [
    {
     "data": {
      "text/html": [
       "<div>\n",
       "<style scoped>\n",
       "    .dataframe tbody tr th:only-of-type {\n",
       "        vertical-align: middle;\n",
       "    }\n",
       "\n",
       "    .dataframe tbody tr th {\n",
       "        vertical-align: top;\n",
       "    }\n",
       "\n",
       "    .dataframe thead th {\n",
       "        text-align: right;\n",
       "    }\n",
       "</style>\n",
       "<table border=\"1\" class=\"dataframe\">\n",
       "  <thead>\n",
       "    <tr style=\"text-align: right;\">\n",
       "      <th></th>\n",
       "      <th>Unnamed: 0</th>\n",
       "      <th>repo</th>\n",
       "      <th>language</th>\n",
       "      <th>readme_contents</th>\n",
       "    </tr>\n",
       "  </thead>\n",
       "  <tbody>\n",
       "    <tr>\n",
       "      <th>0</th>\n",
       "      <td>0</td>\n",
       "      <td>/facebookresearch/ResponsibleNLP</td>\n",
       "      <td>Python</td>\n",
       "      <td>This repository hosts code and datasets relati...</td>\n",
       "    </tr>\n",
       "    <tr>\n",
       "      <th>1</th>\n",
       "      <td>1</td>\n",
       "      <td>/facebookresearch/projectaria_tools</td>\n",
       "      <td>C++</td>\n",
       "      <td># Project Aria Tools\n",
       "\n",
       "Project Aria Tools is a ...</td>\n",
       "    </tr>\n",
       "    <tr>\n",
       "      <th>2</th>\n",
       "      <td>2</td>\n",
       "      <td>/facebookresearch/HolisticTraceAnalysis</td>\n",
       "      <td>Python</td>\n",
       "      <td>[![CircleCI](https://circleci.com/gh/facebookr...</td>\n",
       "    </tr>\n",
       "    <tr>\n",
       "      <th>3</th>\n",
       "      <td>3</td>\n",
       "      <td>/facebookresearch/fairseq2</td>\n",
       "      <td>Python</td>\n",
       "      <td>&lt;p align=\"center\"&gt;\n",
       "  &lt;img src=\"doc/static/img/...</td>\n",
       "    </tr>\n",
       "    <tr>\n",
       "      <th>4</th>\n",
       "      <td>4</td>\n",
       "      <td>/facebookresearch/seamless_communication</td>\n",
       "      <td>Python</td>\n",
       "      <td>![](seamlessM4T.png)\n",
       "# SeamlessM4T\n",
       "SeamlessM4T...</td>\n",
       "    </tr>\n",
       "  </tbody>\n",
       "</table>\n",
       "</div>"
      ],
      "text/plain": [
       "   Unnamed: 0                                      repo language  \\\n",
       "0           0          /facebookresearch/ResponsibleNLP   Python   \n",
       "1           1       /facebookresearch/projectaria_tools      C++   \n",
       "2           2   /facebookresearch/HolisticTraceAnalysis   Python   \n",
       "3           3                /facebookresearch/fairseq2   Python   \n",
       "4           4  /facebookresearch/seamless_communication   Python   \n",
       "\n",
       "                                     readme_contents  \n",
       "0  This repository hosts code and datasets relati...  \n",
       "1  # Project Aria Tools\n",
       "\n",
       "Project Aria Tools is a ...  \n",
       "2  [![CircleCI](https://circleci.com/gh/facebookr...  \n",
       "3  <p align=\"center\">\n",
       "  <img src=\"doc/static/img/...  \n",
       "4  ![](seamlessM4T.png)\n",
       "# SeamlessM4T\n",
       "SeamlessM4T...  "
      ]
     },
     "execution_count": 17,
     "metadata": {},
     "output_type": "execute_result"
    }
   ],
   "source": [
    "df.head()"
   ]
  },
  {
   "cell_type": "markdown",
   "metadata": {},
   "source": [
    "## Prepare"
   ]
  },
  {
   "cell_type": "markdown",
   "metadata": {},
   "source": [
    "##### Prepare Steps:\n",
    "- Lowercase All Text\n",
    "- Remove accented characters and non-ASCII characters\n",
    "- Remove special characters\n",
    "- Tokenize\n",
    "- Lemmatize\n",
    "- Remove Stopwords\n",
    "- Add extra Stopwords"
   ]
  },
  {
   "cell_type": "code",
   "execution_count": 18,
   "metadata": {},
   "outputs": [],
   "source": [
    "df = a.transform_data(df, extra_stopwords=['githubcom', \"'\"])"
   ]
  },
  {
   "cell_type": "code",
   "execution_count": 19,
   "metadata": {},
   "outputs": [
    {
     "data": {
      "text/plain": [
       "language\n",
       "Python              676\n",
       "Jupyter Notebook     80\n",
       "C++                  38\n",
       "Markdown             35\n",
       "TeX                   9\n",
       "Lua                   9\n",
       "HTML                  7\n",
       "Cuda                  7\n",
       "C                     6\n",
       "MATLAB                6\n",
       "Rust                  5\n",
       "JavaScript            5\n",
       "TypeScript            3\n",
       "R                     2\n",
       "Kotlin                2\n",
       "Ruby                  1\n",
       "Java                  1\n",
       "Shell                 1\n",
       "Go                    1\n",
       "C#                    1\n",
       "Dockerfile            1\n",
       "Scala                 1\n",
       "Roff                  1\n",
       "Coq                   1\n",
       "SystemVerilog         1\n",
       "Objective-C++         1\n",
       "OpenEdge ABL          1\n",
       "MDX                   1\n",
       "PureBasic             1\n",
       "Name: count, dtype: Int64"
      ]
     },
     "execution_count": 19,
     "metadata": {},
     "output_type": "execute_result"
    }
   ],
   "source": [
    "df.language.value_counts()"
   ]
  },
  {
   "cell_type": "code",
   "execution_count": 20,
   "metadata": {},
   "outputs": [
    {
     "data": {
      "text/html": [
       "<div>\n",
       "<style scoped>\n",
       "    .dataframe tbody tr th:only-of-type {\n",
       "        vertical-align: middle;\n",
       "    }\n",
       "\n",
       "    .dataframe tbody tr th {\n",
       "        vertical-align: top;\n",
       "    }\n",
       "\n",
       "    .dataframe thead th {\n",
       "        text-align: right;\n",
       "    }\n",
       "</style>\n",
       "<table border=\"1\" class=\"dataframe\">\n",
       "  <thead>\n",
       "    <tr style=\"text-align: right;\">\n",
       "      <th></th>\n",
       "      <th>Unnamed: 0</th>\n",
       "      <th>repo</th>\n",
       "      <th>language</th>\n",
       "      <th>original</th>\n",
       "      <th>clean</th>\n",
       "      <th>lematized</th>\n",
       "    </tr>\n",
       "  </thead>\n",
       "  <tbody>\n",
       "    <tr>\n",
       "      <th>0</th>\n",
       "      <td>0</td>\n",
       "      <td>/facebookresearch/ResponsibleNLP</td>\n",
       "      <td>Python</td>\n",
       "      <td>This repository hosts code and datasets relati...</td>\n",
       "      <td>repository hosts code datasets relating respon...</td>\n",
       "      <td>repository host code datasets relating respons...</td>\n",
       "    </tr>\n",
       "    <tr>\n",
       "      <th>1</th>\n",
       "      <td>1</td>\n",
       "      <td>/facebookresearch/projectaria_tools</td>\n",
       "      <td>C++</td>\n",
       "      <td># Project Aria Tools\n",
       "\n",
       "Project Aria Tools is a ...</td>\n",
       "      <td>project aria tools project aria tools suite c ...</td>\n",
       "      <td>project aria tool project aria tool suite c py...</td>\n",
       "    </tr>\n",
       "    <tr>\n",
       "      <th>2</th>\n",
       "      <td>2</td>\n",
       "      <td>/facebookresearch/HolisticTraceAnalysis</td>\n",
       "      <td>Python</td>\n",
       "      <td>[![CircleCI](https://circleci.com/gh/facebookr...</td>\n",
       "      <td>circlecihttps circlecicom gh facebookresearch ...</td>\n",
       "      <td>circlecihttps circlecicom gh appcirclecicom pi...</td>\n",
       "    </tr>\n",
       "    <tr>\n",
       "      <th>3</th>\n",
       "      <td>3</td>\n",
       "      <td>/facebookresearch/fairseq2</td>\n",
       "      <td>Python</td>\n",
       "      <td>&lt;p align=\"center\"&gt;\n",
       "  &lt;img src=\"doc/static/img/...</td>\n",
       "      <td>p aligncenter img srcdoc static img logopng wi...</td>\n",
       "      <td>p aligncenter img srcdoc static img logopng wi...</td>\n",
       "    </tr>\n",
       "    <tr>\n",
       "      <th>4</th>\n",
       "      <td>4</td>\n",
       "      <td>/facebookresearch/seamless_communication</td>\n",
       "      <td>Python</td>\n",
       "      <td>![](seamlessM4T.png)\n",
       "# SeamlessM4T\n",
       "SeamlessM4T...</td>\n",
       "      <td>seamlessm4tpng seamlessm4t seamlessm4t designe...</td>\n",
       "      <td>seamlessm4tpng seamlessm4t seamlessm4t designe...</td>\n",
       "    </tr>\n",
       "  </tbody>\n",
       "</table>\n",
       "</div>"
      ],
      "text/plain": [
       "   Unnamed: 0                                      repo language  \\\n",
       "0           0          /facebookresearch/ResponsibleNLP   Python   \n",
       "1           1       /facebookresearch/projectaria_tools      C++   \n",
       "2           2   /facebookresearch/HolisticTraceAnalysis   Python   \n",
       "3           3                /facebookresearch/fairseq2   Python   \n",
       "4           4  /facebookresearch/seamless_communication   Python   \n",
       "\n",
       "                                            original  \\\n",
       "0  This repository hosts code and datasets relati...   \n",
       "1  # Project Aria Tools\n",
       "\n",
       "Project Aria Tools is a ...   \n",
       "2  [![CircleCI](https://circleci.com/gh/facebookr...   \n",
       "3  <p align=\"center\">\n",
       "  <img src=\"doc/static/img/...   \n",
       "4  ![](seamlessM4T.png)\n",
       "# SeamlessM4T\n",
       "SeamlessM4T...   \n",
       "\n",
       "                                               clean  \\\n",
       "0  repository hosts code datasets relating respon...   \n",
       "1  project aria tools project aria tools suite c ...   \n",
       "2  circlecihttps circlecicom gh facebookresearch ...   \n",
       "3  p aligncenter img srcdoc static img logopng wi...   \n",
       "4  seamlessm4tpng seamlessm4t seamlessm4t designe...   \n",
       "\n",
       "                                           lematized  \n",
       "0  repository host code datasets relating respons...  \n",
       "1  project aria tool project aria tool suite c py...  \n",
       "2  circlecihttps circlecicom gh appcirclecicom pi...  \n",
       "3  p aligncenter img srcdoc static img logopng wi...  \n",
       "4  seamlessm4tpng seamlessm4t seamlessm4t designe...  "
      ]
     },
     "execution_count": 20,
     "metadata": {},
     "output_type": "execute_result"
    }
   ],
   "source": [
    "df.head()"
   ]
  },
  {
   "cell_type": "markdown",
   "metadata": {},
   "source": [
    "## Explore"
   ]
  },
  {
   "cell_type": "code",
   "execution_count": 21,
   "metadata": {},
   "outputs": [],
   "source": [
    "py_words = ' '.join(df[df.language == 'Python'].lematized)\n",
    "c_words = ' '.join(df[df.language == 'C++'].lematized)\n",
    "mark_words = ' '.join(df[df.language == 'Markdown'].lematized)\n",
    "all_words = ' '.join(df.lematized)"
   ]
  },
  {
   "cell_type": "code",
   "execution_count": 22,
   "metadata": {},
   "outputs": [],
   "source": [
    "# Get word counts for each language\n",
    "py_counts =pd.Series(py_words.split()).value_counts()\n",
    "c_counts =pd.Series(c_words.split()).value_counts()\n",
    "mark_counts =pd.Series(mark_words.split()).value_counts()\n",
    "all_counts =pd.Series(all_words.split()).value_counts()"
   ]
  },
  {
   "cell_type": "code",
   "execution_count": 23,
   "metadata": {},
   "outputs": [],
   "source": [
    "# Get word frequencies for each language\n",
    "py_freq = pd.Series(py_counts / py_counts.sum())\n",
    "c_freq = pd.Series(c_counts / c_counts.sum())\n",
    "mark_freq = pd.Series(mark_counts / mark_counts.sum())\n",
    "all_freq = pd.Series(all_counts / all_counts.sum())"
   ]
  },
  {
   "cell_type": "code",
   "execution_count": 24,
   "metadata": {},
   "outputs": [
    {
     "data": {
      "text/plain": [
       "model       0.013175\n",
       "data        0.007971\n",
       "python      0.007716\n",
       "file        0.006444\n",
       "training    0.006023\n",
       "Name: count, dtype: float64"
      ]
     },
     "execution_count": 24,
     "metadata": {},
     "output_type": "execute_result"
    }
   ],
   "source": [
    "all_freq.head()"
   ]
  },
  {
   "cell_type": "code",
   "execution_count": 25,
   "metadata": {},
   "outputs": [
    {
     "data": {
      "text/plain": [
       "model       5601\n",
       "python      3270\n",
       "data        3232\n",
       "training    2629\n",
       "file        2503\n",
       "run         2282\n",
       "code        2099\n",
       "td          2072\n",
       "use         1992\n",
       "1           1987\n",
       "dataset     1830\n",
       "install     1805\n",
       "license     1675\n",
       "&#9;        1470\n",
       "example     1440\n",
       "using       1425\n",
       "script      1405\n",
       "train       1386\n",
       "http        1322\n",
       "image       1287\n",
       "Name: count, dtype: int64"
      ]
     },
     "execution_count": 25,
     "metadata": {},
     "output_type": "execute_result"
    }
   ],
   "source": [
    "# What are the most frequent py words?\n",
    "py_counts.head(20)"
   ]
  },
  {
   "cell_type": "code",
   "execution_count": 26,
   "metadata": {},
   "outputs": [
    {
     "data": {
      "text/plain": [
       "install      158\n",
       "model        152\n",
       "build        144\n",
       "example      141\n",
       "game         138\n",
       "1            124\n",
       "use          123\n",
       "python       119\n",
       "file         118\n",
       "run          115\n",
       "c            112\n",
       "x            101\n",
       "data         101\n",
       "see           96\n",
       "habitat       84\n",
       "0             82\n",
       "training      81\n",
       "cd            80\n",
       "following     78\n",
       "bash          76\n",
       "Name: count, dtype: int64"
      ]
     },
     "execution_count": 26,
     "metadata": {},
     "output_type": "execute_result"
    }
   ],
   "source": [
    "# What are the most frequent c words?\n",
    "c_counts.head(20)"
   ]
  },
  {
   "cell_type": "code",
   "execution_count": 27,
   "metadata": {},
   "outputs": [
    {
     "data": {
      "text/plain": [
       "data           156\n",
       "dataset        134\n",
       "file           118\n",
       "contains        88\n",
       "license         81\n",
       "participant     80\n",
       "directory       66\n",
       "session         56\n",
       "user            56\n",
       "audio           55\n",
       "1               51\n",
       "model           51\n",
       "system          45\n",
       "language        44\n",
       "paper           43\n",
       "frame           42\n",
       "video           41\n",
       "pose            39\n",
       "microphone      38\n",
       "used            35\n",
       "Name: count, dtype: int64"
      ]
     },
     "execution_count": 27,
     "metadata": {},
     "output_type": "execute_result"
    }
   ],
   "source": [
    "# What are the most frequent Markdown words?\n",
    "mark_counts.head(20)"
   ]
  },
  {
   "cell_type": "markdown",
   "metadata": {},
   "source": [
    "<div class=\"alert alert-block alert-info\"> \n",
    "<b>Takeaway:</b>\n",
    "    \n",
    "- Words like \n",
    "- Words like \n",
    "</div>"
   ]
  },
  {
   "cell_type": "code",
   "execution_count": 28,
   "metadata": {},
   "outputs": [
    {
     "data": {
      "text/html": [
       "<div>\n",
       "<style scoped>\n",
       "    .dataframe tbody tr th:only-of-type {\n",
       "        vertical-align: middle;\n",
       "    }\n",
       "\n",
       "    .dataframe tbody tr th {\n",
       "        vertical-align: top;\n",
       "    }\n",
       "\n",
       "    .dataframe thead th {\n",
       "        text-align: right;\n",
       "    }\n",
       "</style>\n",
       "<table border=\"1\" class=\"dataframe\">\n",
       "  <thead>\n",
       "    <tr style=\"text-align: right;\">\n",
       "      <th></th>\n",
       "      <th>py_counts</th>\n",
       "      <th>c_counts</th>\n",
       "      <th>mark_counts</th>\n",
       "      <th>all_counts</th>\n",
       "    </tr>\n",
       "  </thead>\n",
       "  <tbody>\n",
       "    <tr>\n",
       "      <th>model</th>\n",
       "      <td>5601</td>\n",
       "      <td>152</td>\n",
       "      <td>51</td>\n",
       "      <td>6459</td>\n",
       "    </tr>\n",
       "    <tr>\n",
       "      <th>python</th>\n",
       "      <td>3270</td>\n",
       "      <td>119</td>\n",
       "      <td>6</td>\n",
       "      <td>3783</td>\n",
       "    </tr>\n",
       "    <tr>\n",
       "      <th>data</th>\n",
       "      <td>3232</td>\n",
       "      <td>101</td>\n",
       "      <td>156</td>\n",
       "      <td>3908</td>\n",
       "    </tr>\n",
       "    <tr>\n",
       "      <th>training</th>\n",
       "      <td>2629</td>\n",
       "      <td>81</td>\n",
       "      <td>19</td>\n",
       "      <td>2953</td>\n",
       "    </tr>\n",
       "    <tr>\n",
       "      <th>file</th>\n",
       "      <td>2503</td>\n",
       "      <td>118</td>\n",
       "      <td>118</td>\n",
       "      <td>3159</td>\n",
       "    </tr>\n",
       "  </tbody>\n",
       "</table>\n",
       "</div>"
      ],
      "text/plain": [
       "          py_counts  c_counts  mark_counts  all_counts\n",
       "model          5601       152           51        6459\n",
       "python         3270       119            6        3783\n",
       "data           3232       101          156        3908\n",
       "training       2629        81           19        2953\n",
       "file           2503       118          118        3159"
      ]
     },
     "execution_count": 28,
     "metadata": {},
     "output_type": "execute_result"
    }
   ],
   "source": [
    "#Combine the value counts into one dataframe\n",
    "word_counts = pd.concat([py_counts, c_counts, mark_counts, all_counts], axis=1)\n",
    "word_counts.columns = ['py_counts', 'c_counts', 'mark_counts', 'all_counts']\n",
    "\n",
    "# Fill the nulls with 0\n",
    "word_counts.fillna(0, inplace=True)\n",
    "#Recast all columns as integers\n",
    "word_counts = word_counts.astype('int')\n",
    "\n",
    "#take a look\n",
    "word_counts.head()"
   ]
  },
  {
   "cell_type": "code",
   "execution_count": 29,
   "metadata": {},
   "outputs": [
    {
     "data": {
      "text/html": [
       "<div>\n",
       "<style scoped>\n",
       "    .dataframe tbody tr th:only-of-type {\n",
       "        vertical-align: middle;\n",
       "    }\n",
       "\n",
       "    .dataframe tbody tr th {\n",
       "        vertical-align: top;\n",
       "    }\n",
       "\n",
       "    .dataframe thead th {\n",
       "        text-align: right;\n",
       "    }\n",
       "</style>\n",
       "<table border=\"1\" class=\"dataframe\">\n",
       "  <thead>\n",
       "    <tr style=\"text-align: right;\">\n",
       "      <th></th>\n",
       "      <th>py_freq</th>\n",
       "      <th>c_freq</th>\n",
       "      <th>mark_freq</th>\n",
       "      <th>all_freq</th>\n",
       "    </tr>\n",
       "  </thead>\n",
       "  <tbody>\n",
       "    <tr>\n",
       "      <th>model</th>\n",
       "      <td>0.014284</td>\n",
       "      <td>0.006879</td>\n",
       "      <td>0.005229</td>\n",
       "      <td>0.013175</td>\n",
       "    </tr>\n",
       "    <tr>\n",
       "      <th>python</th>\n",
       "      <td>0.008339</td>\n",
       "      <td>0.005385</td>\n",
       "      <td>0.000615</td>\n",
       "      <td>0.007716</td>\n",
       "    </tr>\n",
       "    <tr>\n",
       "      <th>data</th>\n",
       "      <td>0.008242</td>\n",
       "      <td>0.004571</td>\n",
       "      <td>0.015995</td>\n",
       "      <td>0.007971</td>\n",
       "    </tr>\n",
       "    <tr>\n",
       "      <th>training</th>\n",
       "      <td>0.006704</td>\n",
       "      <td>0.003666</td>\n",
       "      <td>0.001948</td>\n",
       "      <td>0.006023</td>\n",
       "    </tr>\n",
       "    <tr>\n",
       "      <th>file</th>\n",
       "      <td>0.006383</td>\n",
       "      <td>0.005340</td>\n",
       "      <td>0.012099</td>\n",
       "      <td>0.006444</td>\n",
       "    </tr>\n",
       "  </tbody>\n",
       "</table>\n",
       "</div>"
      ],
      "text/plain": [
       "           py_freq    c_freq  mark_freq  all_freq\n",
       "model     0.014284  0.006879   0.005229  0.013175\n",
       "python    0.008339  0.005385   0.000615  0.007716\n",
       "data      0.008242  0.004571   0.015995  0.007971\n",
       "training  0.006704  0.003666   0.001948  0.006023\n",
       "file      0.006383  0.005340   0.012099  0.006444"
      ]
     },
     "execution_count": 29,
     "metadata": {},
     "output_type": "execute_result"
    }
   ],
   "source": [
    "#Combine the value counts into one dataframe\n",
    "word_freq = pd.concat([py_freq, c_freq, mark_freq, all_freq], axis=1)\n",
    "word_freq.columns = ['py_freq', 'c_freq', 'mark_freq', 'all_freq']\n",
    "\n",
    "# Fill the nulls with 0\n",
    "word_freq.fillna(0, inplace=True)\n",
    "\n",
    "#take a look\n",
    "word_freq.head()"
   ]
  },
  {
   "cell_type": "code",
   "execution_count": 30,
   "metadata": {},
   "outputs": [
    {
     "data": {
      "image/png": "[encoded data removed]",
      "text/plain": [
       "<Figure size 1600x900 with 1 Axes>"
      ]
     },
     "metadata": {},
     "output_type": "display_data"
    }
   ],
   "source": [
    "#Plot the most frequent words and color by label\n",
    "word_counts.sort_values('all_counts', ascending=False).head(10).plot.bar(figsize=(16, 9))\n",
    "plt.title('Most common words by category')\n",
    "plt.ylabel('Count')\n",
    "plt.xlabel('Most common words')\n",
    "plt.xticks(rotation=45)\n",
    "plt.show()"
   ]
  },
  {
   "cell_type": "code",
   "execution_count": 31,
   "metadata": {},
   "outputs": [
    {
     "data": {
      "image/png": "[encoded data removed]",
      "text/plain": [
       "<Figure size 1600x900 with 1 Axes>"
      ]
     },
     "metadata": {},
     "output_type": "display_data"
    }
   ],
   "source": [
    "#Plot the most frequent words and color by label\n",
    "word_freq.sort_values('all_freq', ascending=False).head(10).plot.bar(figsize=(16, 9))\n",
    "plt.title('Most common words by category')\n",
    "plt.ylabel('Frequency')\n",
    "plt.xlabel('Most common words')\n",
    "plt.xticks(rotation=45)\n",
    "plt.show()"
   ]
  },
  {
   "cell_type": "code",
   "execution_count": null,
   "metadata": {},
   "outputs": [],
   "source": []
  }
 ],
 "metadata": {
  "kernelspec": {
   "display_name": "base",
   "language": "python",
   "name": "python3"
  },
  "language_info": {
   "codemirror_mode": {
    "name": "ipython",
    "version": 3
   },
   "file_extension": ".py",
   "mimetype": "text/x-python",
   "name": "python",
   "nbconvert_exporter": "python",
   "pygments_lexer": "ipython3",
   "version": "3.11.3"
  }
 },
 "nbformat": 4,
 "nbformat_minor": 2
}
