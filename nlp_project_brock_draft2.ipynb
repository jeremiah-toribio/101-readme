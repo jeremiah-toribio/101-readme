{
 "cells": [
  {
   "cell_type": "code",
   "execution_count": 33,
   "metadata": {},
   "outputs": [],
   "source": [
    "# Standard DS imports\n",
    "import pandas as pd\n",
    "import numpy as np\n",
    "\n",
    "# Vizualization imports\n",
    "import matplotlib.pyplot as plt\n",
    "import seaborn as sns\n",
    "\n",
    "# NLP imports\n",
    "import re\n",
    "import unicodedata\n",
    "import nltk\n",
    "from nltk.tokenize.toktok import ToktokTokenizer\n",
    "from nltk.corpus import stopwords\n",
    "from bs4 import BeautifulSoup\n",
    "\n",
    "# Custom imports\n",
    "import acquire as a\n",
    "import env\n",
    "\n",
    "import os\n",
    "import requests\n",
    "import random"
   ]
  },
  {
   "cell_type": "markdown",
   "metadata": {},
   "source": [
    "## Acquire"
   ]
  },
  {
   "cell_type": "code",
   "execution_count": 34,
   "metadata": {},
   "outputs": [],
   "source": [
    "df = a.process_all_repos()"
   ]
  },
  {
   "cell_type": "markdown",
   "metadata": {},
   "source": [
    "## Prepare"
   ]
  },
  {
   "cell_type": "markdown",
   "metadata": {},
   "source": [
    "##### Prepare Steps:\n",
    "- Lowercase All Text\n",
    "- Remove accented characters and non-ASCII characters\n",
    "- Remove special characters\n",
    "- Tokenize\n",
    "- Lemmatize\n",
    "- Remove Stopwords\n",
    "- Add extra Stopwords"
   ]
  },
  {
   "cell_type": "code",
   "execution_count": 35,
   "metadata": {},
   "outputs": [],
   "source": [
    "df = a.transform_data(df, extra_stopwords=['githubcom', \"'\"])"
   ]
  },
  {
   "cell_type": "code",
   "execution_count": 36,
   "metadata": {},
   "outputs": [
    {
     "data": {
      "text/html": [
       "<div>\n",
       "<style scoped>\n",
       "    .dataframe tbody tr th:only-of-type {\n",
       "        vertical-align: middle;\n",
       "    }\n",
       "\n",
       "    .dataframe tbody tr th {\n",
       "        vertical-align: top;\n",
       "    }\n",
       "\n",
       "    .dataframe thead th {\n",
       "        text-align: right;\n",
       "    }\n",
       "</style>\n",
       "<table border=\"1\" class=\"dataframe\">\n",
       "  <thead>\n",
       "    <tr style=\"text-align: right;\">\n",
       "      <th></th>\n",
       "      <th>repo</th>\n",
       "      <th>language</th>\n",
       "      <th>original</th>\n",
       "      <th>clean</th>\n",
       "      <th>lematized</th>\n",
       "    </tr>\n",
       "  </thead>\n",
       "  <tbody>\n",
       "    <tr>\n",
       "      <th>0</th>\n",
       "      <td>/facebookresearch/ResponsibleNLP</td>\n",
       "      <td>Python</td>\n",
       "      <td>This repository hosts code and datasets relati...</td>\n",
       "      <td>repository hosts code datasets relating respon...</td>\n",
       "      <td>repository host code datasets relating respons...</td>\n",
       "    </tr>\n",
       "    <tr>\n",
       "      <th>1</th>\n",
       "      <td>/facebookresearch/projectaria_tools</td>\n",
       "      <td>C++</td>\n",
       "      <td># Project Aria Tools\n",
       "\n",
       "Project Aria Tools is a ...</td>\n",
       "      <td>project aria tools project aria tools suite c ...</td>\n",
       "      <td>project aria tool project aria tool suite c py...</td>\n",
       "    </tr>\n",
       "    <tr>\n",
       "      <th>2</th>\n",
       "      <td>/facebookresearch/HolisticTraceAnalysis</td>\n",
       "      <td>Python</td>\n",
       "      <td>[![CircleCI](https://circleci.com/gh/facebookr...</td>\n",
       "      <td>circlecihttps circlecicom gh facebookresearch ...</td>\n",
       "      <td>circlecihttps circlecicom gh appcirclecicom pi...</td>\n",
       "    </tr>\n",
       "    <tr>\n",
       "      <th>3</th>\n",
       "      <td>/facebookresearch/fairseq2</td>\n",
       "      <td>Python</td>\n",
       "      <td>&lt;p align=\"center\"&gt;\n",
       "  &lt;img src=\"doc/static/img/...</td>\n",
       "      <td>p aligncenter img srcdoc static img logopng wi...</td>\n",
       "      <td>p aligncenter img srcdoc static img logopng wi...</td>\n",
       "    </tr>\n",
       "    <tr>\n",
       "      <th>4</th>\n",
       "      <td>/facebookresearch/seamless_communication</td>\n",
       "      <td>Python</td>\n",
       "      <td>![](seamlessM4T.png)\n",
       "# SeamlessM4T\n",
       "SeamlessM4T...</td>\n",
       "      <td>seamlessm4tpng seamlessm4t seamlessm4t designe...</td>\n",
       "      <td>seamlessm4tpng seamlessm4t seamlessm4t designe...</td>\n",
       "    </tr>\n",
       "  </tbody>\n",
       "</table>\n",
       "</div>"
      ],
      "text/plain": [
       "                                       repo language  \\\n",
       "0          /facebookresearch/ResponsibleNLP   Python   \n",
       "1       /facebookresearch/projectaria_tools      C++   \n",
       "2   /facebookresearch/HolisticTraceAnalysis   Python   \n",
       "3                /facebookresearch/fairseq2   Python   \n",
       "4  /facebookresearch/seamless_communication   Python   \n",
       "\n",
       "                                            original  \\\n",
       "0  This repository hosts code and datasets relati...   \n",
       "1  # Project Aria Tools\n",
       "\n",
       "Project Aria Tools is a ...   \n",
       "2  [![CircleCI](https://circleci.com/gh/facebookr...   \n",
       "3  <p align=\"center\">\n",
       "  <img src=\"doc/static/img/...   \n",
       "4  ![](seamlessM4T.png)\n",
       "# SeamlessM4T\n",
       "SeamlessM4T...   \n",
       "\n",
       "                                               clean  \\\n",
       "0  repository hosts code datasets relating respon...   \n",
       "1  project aria tools project aria tools suite c ...   \n",
       "2  circlecihttps circlecicom gh facebookresearch ...   \n",
       "3  p aligncenter img srcdoc static img logopng wi...   \n",
       "4  seamlessm4tpng seamlessm4t seamlessm4t designe...   \n",
       "\n",
       "                                           lematized  \n",
       "0  repository host code datasets relating respons...  \n",
       "1  project aria tool project aria tool suite c py...  \n",
       "2  circlecihttps circlecicom gh appcirclecicom pi...  \n",
       "3  p aligncenter img srcdoc static img logopng wi...  \n",
       "4  seamlessm4tpng seamlessm4t seamlessm4t designe...  "
      ]
     },
     "execution_count": 36,
     "metadata": {},
     "output_type": "execute_result"
    }
   ],
   "source": [
    "df.head()"
   ]
  },
  {
   "cell_type": "markdown",
   "metadata": {},
   "source": [
    "## Explore"
   ]
  },
  {
   "cell_type": "code",
   "execution_count": 37,
   "metadata": {},
   "outputs": [],
   "source": [
    "py_words = ' '.join(df[df.language == 'Python'].lematized)\n",
    "c_words = ' '.join(df[df.language == 'C++'].lematized)\n",
    "jupiter_words = ' '.join(df[df.language == 'Jupyter Notebook'].lematized)\n",
    "all_words = ' '.join(df.lematized)"
   ]
  },
  {
   "cell_type": "code",
   "execution_count": 38,
   "metadata": {},
   "outputs": [],
   "source": [
    "# Get word counts for each language\n",
    "py_counts =pd.Series(py_words.split()).value_counts()\n",
    "c_counts =pd.Series(c_words.split()).value_counts()\n",
    "jupiter_counts =pd.Series(jupiter_words.split()).value_counts()\n",
    "all_counts =pd.Series(all_words.split()).value_counts()"
   ]
  },
  {
   "cell_type": "code",
   "execution_count": 39,
   "metadata": {},
   "outputs": [],
   "source": [
    "# Get word frequencies for each language\n",
    "py_freq = pd.Series(py_counts / py_counts.sum())\n",
    "c_freq = pd.Series(c_counts / c_counts.sum())\n",
    "jupiter_freq = pd.Series(jupiter_counts / jupiter_counts.sum())\n",
    "all_freq = pd.Series(all_counts / all_counts.sum())"
   ]
  },
  {
   "cell_type": "code",
   "execution_count": 48,
   "metadata": {},
   "outputs": [
    {
     "data": {
      "text/plain": [
       "model      0.011737\n",
       "data       0.006856\n",
       "python     0.006720\n",
       "install    0.005900\n",
       "file       0.005360\n",
       "Name: count, dtype: float64"
      ]
     },
     "execution_count": 48,
     "metadata": {},
     "output_type": "execute_result"
    }
   ],
   "source": [
    "all_freq.head()"
   ]
  },
  {
   "cell_type": "code",
   "execution_count": 40,
   "metadata": {},
   "outputs": [
    {
     "data": {
      "text/plain": [
       "model       930\n",
       "python      528\n",
       "data        478\n",
       "install     421\n",
       "&#9;        405\n",
       "file        405\n",
       "run         393\n",
       "use         356\n",
       "code        356\n",
       "training    351\n",
       "example     334\n",
       "1           301\n",
       "license     288\n",
       "b           268\n",
       "see         264\n",
       "arxivorg    263\n",
       "main        262\n",
       "bash        259\n",
       "ab          257\n",
       "using       254\n",
       "Name: count, dtype: int64"
      ]
     },
     "execution_count": 40,
     "metadata": {},
     "output_type": "execute_result"
    }
   ],
   "source": [
    "# What are the most frequent py words?\n",
    "py_counts.head(20)"
   ]
  },
  {
   "cell_type": "code",
   "execution_count": 41,
   "metadata": {},
   "outputs": [
    {
     "data": {
      "text/plain": [
       "x          95\n",
       "install    73\n",
       "habitat    67\n",
       "build      55\n",
       "c          46\n",
       "game       46\n",
       "vrs        45\n",
       "python     40\n",
       "pytorch    35\n",
       "data       34\n",
       "use        34\n",
       "conda      34\n",
       "see        33\n",
       "path       33\n",
       "sim        32\n",
       "1          32\n",
       "file       28\n",
       "model      28\n",
       "license    28\n",
       "http       27\n",
       "Name: count, dtype: int64"
      ]
     },
     "execution_count": 41,
     "metadata": {},
     "output_type": "execute_result"
    }
   ],
   "source": [
    "# What are the most frequent c words?\n",
    "c_counts.head(20)"
   ]
  },
  {
   "cell_type": "code",
   "execution_count": 42,
   "metadata": {},
   "outputs": [
    {
     "data": {
      "text/plain": [
       "model        142\n",
       "td           105\n",
       "dinov2        93\n",
       "data          88\n",
       "dataset       59\n",
       "hrefhttps     59\n",
       "tr            56\n",
       "install       56\n",
       "personal      54\n",
       "run           52\n",
       "file          49\n",
       "1             49\n",
       "python        49\n",
       "license       45\n",
       "http          44\n",
       "please        43\n",
       "path          42\n",
       "use           39\n",
       "see           38\n",
       "2             38\n",
       "Name: count, dtype: int64"
      ]
     },
     "execution_count": 42,
     "metadata": {},
     "output_type": "execute_result"
    }
   ],
   "source": [
    "# What are the most frequent jupiter words?\n",
    "jupiter_counts.head(20)"
   ]
  },
  {
   "cell_type": "markdown",
   "metadata": {},
   "source": [
    "<div class=\"alert alert-block alert-info\"> \n",
    "<b>Takeaway:</b>\n",
    "    \n",
    "- Words like \n",
    "- Words like \n",
    "</div>"
   ]
  },
  {
   "cell_type": "code",
   "execution_count": 43,
   "metadata": {},
   "outputs": [
    {
     "data": {
      "text/html": [
       "<div>\n",
       "<style scoped>\n",
       "    .dataframe tbody tr th:only-of-type {\n",
       "        vertical-align: middle;\n",
       "    }\n",
       "\n",
       "    .dataframe tbody tr th {\n",
       "        vertical-align: top;\n",
       "    }\n",
       "\n",
       "    .dataframe thead th {\n",
       "        text-align: right;\n",
       "    }\n",
       "</style>\n",
       "<table border=\"1\" class=\"dataframe\">\n",
       "  <thead>\n",
       "    <tr style=\"text-align: right;\">\n",
       "      <th></th>\n",
       "      <th>py_counts</th>\n",
       "      <th>c_counts</th>\n",
       "      <th>jupiter_counts</th>\n",
       "      <th>all_counts</th>\n",
       "    </tr>\n",
       "  </thead>\n",
       "  <tbody>\n",
       "    <tr>\n",
       "      <th>model</th>\n",
       "      <td>930</td>\n",
       "      <td>28</td>\n",
       "      <td>142</td>\n",
       "      <td>1130</td>\n",
       "    </tr>\n",
       "    <tr>\n",
       "      <th>python</th>\n",
       "      <td>528</td>\n",
       "      <td>40</td>\n",
       "      <td>49</td>\n",
       "      <td>647</td>\n",
       "    </tr>\n",
       "    <tr>\n",
       "      <th>data</th>\n",
       "      <td>478</td>\n",
       "      <td>34</td>\n",
       "      <td>88</td>\n",
       "      <td>660</td>\n",
       "    </tr>\n",
       "    <tr>\n",
       "      <th>install</th>\n",
       "      <td>421</td>\n",
       "      <td>73</td>\n",
       "      <td>56</td>\n",
       "      <td>568</td>\n",
       "    </tr>\n",
       "    <tr>\n",
       "      <th>&amp;#9;</th>\n",
       "      <td>405</td>\n",
       "      <td>9</td>\n",
       "      <td>5</td>\n",
       "      <td>419</td>\n",
       "    </tr>\n",
       "  </tbody>\n",
       "</table>\n",
       "</div>"
      ],
      "text/plain": [
       "         py_counts  c_counts  jupiter_counts  all_counts\n",
       "model          930        28             142        1130\n",
       "python         528        40              49         647\n",
       "data           478        34              88         660\n",
       "install        421        73              56         568\n",
       "&#9;           405         9               5         419"
      ]
     },
     "execution_count": 43,
     "metadata": {},
     "output_type": "execute_result"
    }
   ],
   "source": [
    "#Combine the value counts into one dataframe\n",
    "word_counts = pd.concat([py_counts, c_counts, jupiter_counts, all_counts], axis=1)\n",
    "word_counts.columns = ['py_counts', 'c_counts', 'jupiter_counts', 'all_counts']\n",
    "\n",
    "# Fill the nulls with 0\n",
    "word_counts.fillna(0, inplace=True)\n",
    "#Recast all columns as integers\n",
    "word_counts = word_counts.astype('int')\n",
    "\n",
    "#take a look\n",
    "word_counts.head()"
   ]
  },
  {
   "cell_type": "code",
   "execution_count": 50,
   "metadata": {},
   "outputs": [
    {
     "data": {
      "text/html": [
       "<div>\n",
       "<style scoped>\n",
       "    .dataframe tbody tr th:only-of-type {\n",
       "        vertical-align: middle;\n",
       "    }\n",
       "\n",
       "    .dataframe tbody tr th {\n",
       "        vertical-align: top;\n",
       "    }\n",
       "\n",
       "    .dataframe thead th {\n",
       "        text-align: right;\n",
       "    }\n",
       "</style>\n",
       "<table border=\"1\" class=\"dataframe\">\n",
       "  <thead>\n",
       "    <tr style=\"text-align: right;\">\n",
       "      <th></th>\n",
       "      <th>py_freq</th>\n",
       "      <th>c_freq</th>\n",
       "      <th>jupiter_freq</th>\n",
       "      <th>all_freq</th>\n",
       "    </tr>\n",
       "  </thead>\n",
       "  <tbody>\n",
       "    <tr>\n",
       "      <th>model</th>\n",
       "      <td>0.012409</td>\n",
       "      <td>0.004291</td>\n",
       "      <td>0.015746</td>\n",
       "      <td>0.011737</td>\n",
       "    </tr>\n",
       "    <tr>\n",
       "      <th>python</th>\n",
       "      <td>0.007045</td>\n",
       "      <td>0.006129</td>\n",
       "      <td>0.005434</td>\n",
       "      <td>0.006720</td>\n",
       "    </tr>\n",
       "    <tr>\n",
       "      <th>data</th>\n",
       "      <td>0.006378</td>\n",
       "      <td>0.005210</td>\n",
       "      <td>0.009758</td>\n",
       "      <td>0.006856</td>\n",
       "    </tr>\n",
       "    <tr>\n",
       "      <th>install</th>\n",
       "      <td>0.005617</td>\n",
       "      <td>0.011186</td>\n",
       "      <td>0.006210</td>\n",
       "      <td>0.005900</td>\n",
       "    </tr>\n",
       "    <tr>\n",
       "      <th>&amp;#9;</th>\n",
       "      <td>0.005404</td>\n",
       "      <td>0.001379</td>\n",
       "      <td>0.000554</td>\n",
       "      <td>0.004352</td>\n",
       "    </tr>\n",
       "  </tbody>\n",
       "</table>\n",
       "</div>"
      ],
      "text/plain": [
       "          py_freq    c_freq  jupiter_freq  all_freq\n",
       "model    0.012409  0.004291      0.015746  0.011737\n",
       "python   0.007045  0.006129      0.005434  0.006720\n",
       "data     0.006378  0.005210      0.009758  0.006856\n",
       "install  0.005617  0.011186      0.006210  0.005900\n",
       "&#9;     0.005404  0.001379      0.000554  0.004352"
      ]
     },
     "execution_count": 50,
     "metadata": {},
     "output_type": "execute_result"
    }
   ],
   "source": [
    "#Combine the value counts into one dataframe\n",
    "word_freq = pd.concat([py_freq, c_freq, jupiter_freq, all_freq], axis=1)\n",
    "word_freq.columns = ['py_freq', 'c_freq', 'jupiter_freq', 'all_freq']\n",
    "\n",
    "# Fill the nulls with 0\n",
    "word_freq.fillna(0, inplace=True)\n",
    "\n",
    "#take a look\n",
    "word_freq.head()"
   ]
  },
  {
   "cell_type": "code",
   "execution_count": 52,
   "metadata": {},
   "outputs": [
    {
     "data": {
      "image/png": "[encoded data removed]",
      "text/plain": [
       "<Figure size 1600x900 with 1 Axes>"
      ]
     },
     "metadata": {},
     "output_type": "display_data"
    }
   ],
   "source": [
    "#Plot the most frequent words and color by label\n",
    "word_counts.sort_values('all_counts', ascending=False).head(10).plot.bar(figsize=(16, 9))\n",
    "plt.title('Most common words by category')\n",
    "plt.ylabel('Count')\n",
    "plt.xlabel('Most common words')\n",
    "plt.xticks(rotation=45)\n",
    "plt.show()"
   ]
  },
  {
   "cell_type": "code",
   "execution_count": 53,
   "metadata": {},
   "outputs": [
    {
     "data": {
      "image/png": "[encoded data removed]",
      "text/plain": [
       "<Figure size 1600x900 with 1 Axes>"
      ]
     },
     "metadata": {},
     "output_type": "display_data"
    }
   ],
   "source": [
    "#Plot the most frequent words and color by label\n",
    "word_freq.sort_values('all_freq', ascending=False).head(10).plot.bar(figsize=(16, 9))\n",
    "plt.title('Most common words by category')\n",
    "plt.ylabel('Frequency')\n",
    "plt.xlabel('Most common words')\n",
    "plt.xticks(rotation=45)\n",
    "plt.show()"
   ]
  }
 ],
 "metadata": {
  "kernelspec": {
   "display_name": "base",
   "language": "python",
   "name": "python3"
  },
  "language_info": {
   "codemirror_mode": {
    "name": "ipython",
    "version": 3
   },
   "file_extension": ".py",
   "mimetype": "text/x-python",
   "name": "python",
   "nbconvert_exporter": "python",
   "pygments_lexer": "ipython3",
   "version": "3.11.3"
  }
 },
 "nbformat": 4,
 "nbformat_minor": 2
}
